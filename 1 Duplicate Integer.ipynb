{
 "cells": [
  {
   "cell_type": "markdown",
   "metadata": {},
   "source": [
    "Duplicate Integer\n",
    "Given an integer array nums, return true if any value appears more than once in the array, otherwise return false.\n",
    "\n",
    "Example 1:\n",
    "Input: nums = [1, 2, 3, 3]\n",
    "Output: true\n",
    "\n",
    "Example 2:\n",
    "Input: nums = [1, 2, 3, 4]\n",
    "Output: false\n"
   ]
  },
  {
   "cell_type": "code",
   "execution_count": null,
   "metadata": {},
   "outputs": [],
   "source": [
    "from typing import List\n",
    "import random\n",
    "import time\n",
    "\n",
    "# Test Case Generator\n",
    "def generator():\n",
    "    # Test Params\n",
    "    numberofBatches = 5\n",
    "    startingTestsPerBatch = 10\n",
    "    rateofTestsPerBatchIncrease = 2\n",
    "    maxIntValue = 99\n",
    "    \n",
    "    genStartTime = time.time()\n",
    "\n",
    "    previousBatchSize = 0\n",
    "    testBatches = []\n",
    "    for batchNum in range(numberofBatches):\n",
    "        if batchNum == 0:\n",
    "            batchSize = startingTestsPerBatch\n",
    "        else:\n",
    "            batchSize = previousBatchSize * rateofTestsPerBatchIncrease\n",
    "        \n",
    "        # build the batch\n",
    "        testBatch = []\n",
    "        for _ in range(batchSize):\n",
    "            testBatch.append(random.randint(0, int(maxIntValue))) \n",
    "        testBatches.append(testBatch)            \n",
    "\n",
    "        previousBatchSize = batchSize\n",
    "    genStopTime = time.time()\n",
    "    print(f\"Test Generator Took: {genStopTime - genStartTime}\")\n",
    "    return testBatches        "
   ]
  },
  {
   "cell_type": "code",
   "execution_count": 27,
   "metadata": {},
   "outputs": [],
   "source": [
    "# Hashset Solution\n",
    "def hasDuplicateHashset(nums: List[int]) -> bool:\n",
    "    seen = set()\n",
    "    \n",
    "    for n in nums:\n",
    "        if n in seen:\n",
    "            return True\n",
    "        seen.add(n)\n",
    "    return False"
   ]
  },
  {
   "cell_type": "code",
   "execution_count": null,
   "metadata": {},
   "outputs": [],
   "source": [
    "def perfTest(func, testBatches):\n",
    "    perfTestStartTime = time.time()\n",
    "\n",
    "    for batch in testBatches:\n",
    "        batchTestStartTime = time.time()\n",
    "        \n",
    "        "
   ]
  },
  {
   "cell_type": "code",
   "execution_count": null,
   "metadata": {},
   "outputs": [],
   "source": [
    "def main():\n",
    "    mainStartTime = time.time()\n",
    "    testBatches = generator()\n",
    "\n",
    "    print(\"Performing Performance Test\")\n",
    "    \n",
    "    for batch\n",
    "\n",
    "    "
   ]
  }
 ],
 "metadata": {
  "kernelspec": {
   "display_name": "Python 3",
   "language": "python",
   "name": "python3"
  },
  "language_info": {
   "codemirror_mode": {
    "name": "ipython",
    "version": 3
   },
   "file_extension": ".py",
   "mimetype": "text/x-python",
   "name": "python",
   "nbconvert_exporter": "python",
   "pygments_lexer": "ipython3",
   "version": "3.13.0"
  }
 },
 "nbformat": 4,
 "nbformat_minor": 2
}
