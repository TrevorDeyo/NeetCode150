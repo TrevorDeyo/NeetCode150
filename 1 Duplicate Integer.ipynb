{
 "cells": [
  {
   "cell_type": "markdown",
   "metadata": {},
   "source": [
    "Duplicate Integer\n",
    "Given an integer array nums, return true if any value appears more than once in the array, otherwise return false.\n",
    "\n",
    "Example 1:\n",
    "Input: nums = [1, 2, 3, 3]\n",
    "Output: true\n",
    "\n",
    "Example 2:\n",
    "Input: nums = [1, 2, 3, 4]\n",
    "Output: false\n",
    "\n",
    "You can change the test parameters below :)"
   ]
  },
  {
   "cell_type": "code",
   "execution_count": 7,
   "metadata": {},
   "outputs": [],
   "source": [
    "from typing import List\n",
    "import random\n",
    "import time\n",
    "\n",
    "# Test Case Generator\n",
    "def generator():\n",
    "    # Test Params\n",
    "    numberofBatches = 10\n",
    "    startingTestsPerBatch = 1000000\n",
    "    rateofTestsPerBatchIncrease = 1\n",
    "    maxIntValue = int(\"9\" * 12)\n",
    "    \n",
    "    genTime = time.time()\n",
    "\n",
    "    previousBatchSize = 0\n",
    "    testBatches = []\n",
    "    counter = 0\n",
    "    for batchNum in range(numberofBatches):\n",
    "        batchTime = time.time()\n",
    "        if batchNum == 0:\n",
    "            batchSize = startingTestsPerBatch\n",
    "        else:\n",
    "            batchSize = previousBatchSize * rateofTestsPerBatchIncrease\n",
    "        \n",
    "        # build the batch\n",
    "        testBatch = []\n",
    "        for _ in range(batchSize):\n",
    "            testBatch.append(random.randint(0, maxIntValue))\n",
    "        testBatches.append(testBatch)            \n",
    "\n",
    "        previousBatchSize = batchSize\n",
    "\n",
    "        print(f\"\\rTest Gen Batch {counter + 1} Complete, Time Elasped: {time.time() - batchTime:.5f} seconds.\")\n",
    "        counter += 1\n",
    "    print(testBatches[0])\n",
    "    print(f\"Test Generator comeplete, time elasped: {time.time() - genTime:.5f} seconds\")\n",
    "    return testBatches        "
   ]
  },
  {
   "cell_type": "code",
   "execution_count": 8,
   "metadata": {},
   "outputs": [],
   "source": [
    "def hasDuplicateBruteForce(nums: List[int]) -> bool:\n",
    "    for i in range(len(nums)):\n",
    "        for j in range(i + 1, len(nums)):\n",
    "            if nums[i] == nums[j]:\n",
    "                return True\n",
    "    return False"
   ]
  },
  {
   "cell_type": "code",
   "execution_count": 9,
   "metadata": {},
   "outputs": [],
   "source": [
    "def hasDuplicateSorting(nums: List[int]) -> bool:\n",
    "    nums.sort()\n",
    "    for i in range(1, len(nums)):\n",
    "        if nums[i] == nums[i - 1]:\n",
    "            return True\n",
    "    return False\n"
   ]
  },
  {
   "cell_type": "code",
   "execution_count": 10,
   "metadata": {},
   "outputs": [],
   "source": [
    "def hasDuplicateHashset(nums: List[int]) -> bool:\n",
    "    seen = set()\n",
    "    for n in nums:\n",
    "        if n in seen:\n",
    "            return True\n",
    "        seen.add(n)\n",
    "    return False"
   ]
  },
  {
   "cell_type": "code",
   "execution_count": 11,
   "metadata": {},
   "outputs": [],
   "source": [
    "def perfTest(func, testBatches):\n",
    "    perfTestTime = time.time()\n",
    "    counter = 0\n",
    "    detectedDuplicates = 0\n",
    "    for batch in testBatches:\n",
    "        batchTime = time.time()\n",
    "        if not func(batch):\n",
    "            detectedDuplicates += 1\n",
    "        print(f\"Perf Test Batch{counter + 1} Complete, Time Elasped: {time.time() - batchTime:.5f} seconds.\")\n",
    "        counter += 1\n",
    "    print(f\"Detected: {detectedDuplicates} Batches with a duplicate int\")\n",
    "    print(f\"Performance Test Complete, Time Elasped: {time.time() - perfTestTime:.5f} seconds.\")\n",
    "        "
   ]
  },
  {
   "cell_type": "code",
   "execution_count": 12,
   "metadata": {},
   "outputs": [
    {
     "name": "stdout",
     "output_type": "stream",
     "text": [
      "Performing Test Generation\n",
      "Test Gen Batch 1 Complete, Time Elasped: 0.63355 seconds.\n",
      "Test Gen Batch 2 Complete, Time Elasped: 0.63956 seconds.\n",
      "Test Gen Batch 3 Complete, Time Elasped: 0.63550 seconds.\n",
      "Test Gen Batch 4 Complete, Time Elasped: 0.59343 seconds.\n",
      "Test Gen Batch 5 Complete, Time Elasped: 0.61308 seconds.\n",
      "Test Gen Batch 6 Complete, Time Elasped: 0.63586 seconds.\n",
      "Test Gen Batch 7 Complete, Time Elasped: 0.60680 seconds.\n",
      "Test Gen Batch 8 Complete, Time Elasped: 0.60177 seconds.\n",
      "Test Gen Batch 9 Complete, Time Elasped: 0.63223 seconds.\n"
     ]
    },
    {
     "ename": "KeyboardInterrupt",
     "evalue": "",
     "output_type": "error",
     "traceback": [
      "\u001b[1;31m---------------------------------------------------------------------------\u001b[0m",
      "\u001b[1;31mKeyboardInterrupt\u001b[0m                         Traceback (most recent call last)",
      "Cell \u001b[1;32mIn[12], line 14\u001b[0m\n\u001b[0;32m     10\u001b[0m     perfTest(hasDuplicateHashset, testBatches)\n\u001b[0;32m     12\u001b[0m     \u001b[38;5;28mprint\u001b[39m(\u001b[38;5;124mf\u001b[39m\u001b[38;5;124m\"\u001b[39m\u001b[38;5;124mProgram Exec Complete... time elasped: \u001b[39m\u001b[38;5;132;01m{\u001b[39;00mtime\u001b[38;5;241m.\u001b[39mtime()\u001b[38;5;250m \u001b[39m\u001b[38;5;241m-\u001b[39m\u001b[38;5;250m \u001b[39mmainTime\u001b[38;5;132;01m:\u001b[39;00m\u001b[38;5;124m.5f\u001b[39m\u001b[38;5;132;01m}\u001b[39;00m\u001b[38;5;124m seconds.\u001b[39m\u001b[38;5;124m\"\u001b[39m)\n\u001b[1;32m---> 14\u001b[0m \u001b[43mmain\u001b[49m\u001b[43m(\u001b[49m\u001b[43m)\u001b[49m\n",
      "Cell \u001b[1;32mIn[12], line 5\u001b[0m, in \u001b[0;36mmain\u001b[1;34m()\u001b[0m\n\u001b[0;32m      2\u001b[0m mainTime \u001b[38;5;241m=\u001b[39m time\u001b[38;5;241m.\u001b[39mtime()\n\u001b[0;32m      4\u001b[0m \u001b[38;5;28mprint\u001b[39m(\u001b[38;5;124m\"\u001b[39m\u001b[38;5;124mPerforming Test Generation\u001b[39m\u001b[38;5;124m\"\u001b[39m)\n\u001b[1;32m----> 5\u001b[0m testBatches \u001b[38;5;241m=\u001b[39m \u001b[43mgenerator\u001b[49m\u001b[43m(\u001b[49m\u001b[43m)\u001b[49m\n\u001b[0;32m      7\u001b[0m \u001b[38;5;28mprint\u001b[39m(\u001b[38;5;124m\"\u001b[39m\u001b[38;5;124mPerforming Performance Test\u001b[39m\u001b[38;5;124m\"\u001b[39m)\n\u001b[0;32m      8\u001b[0m perfTest(hasDuplicateBruteForce, testBatches)\n",
      "Cell \u001b[1;32mIn[7], line 28\u001b[0m, in \u001b[0;36mgenerator\u001b[1;34m()\u001b[0m\n\u001b[0;32m     26\u001b[0m testBatch \u001b[38;5;241m=\u001b[39m []\n\u001b[0;32m     27\u001b[0m \u001b[38;5;28;01mfor\u001b[39;00m _ \u001b[38;5;129;01min\u001b[39;00m \u001b[38;5;28mrange\u001b[39m(batchSize):\n\u001b[1;32m---> 28\u001b[0m     testBatch\u001b[38;5;241m.\u001b[39mappend(\u001b[43mrandom\u001b[49m\u001b[38;5;241;43m.\u001b[39;49m\u001b[43mrandint\u001b[49m\u001b[43m(\u001b[49m\u001b[38;5;241;43m0\u001b[39;49m\u001b[43m,\u001b[49m\u001b[43m \u001b[49m\u001b[43mmaxIntValue\u001b[49m\u001b[43m)\u001b[49m)\n\u001b[0;32m     29\u001b[0m testBatches\u001b[38;5;241m.\u001b[39mappend(testBatch)            \n\u001b[0;32m     31\u001b[0m previousBatchSize \u001b[38;5;241m=\u001b[39m batchSize\n",
      "File \u001b[1;32mc:\\Users\\tdeyo\\AppData\\Local\\Programs\\Python\\Python313\\Lib\\random.py:340\u001b[0m, in \u001b[0;36mRandom.randint\u001b[1;34m(self, a, b)\u001b[0m\n\u001b[0;32m    336\u001b[0m \u001b[38;5;28;01mdef\u001b[39;00m \u001b[38;5;21mrandint\u001b[39m(\u001b[38;5;28mself\u001b[39m, a, b):\n\u001b[0;32m    337\u001b[0m \u001b[38;5;250m    \u001b[39m\u001b[38;5;124;03m\"\"\"Return random integer in range [a, b], including both end points.\u001b[39;00m\n\u001b[0;32m    338\u001b[0m \u001b[38;5;124;03m    \"\"\"\u001b[39;00m\n\u001b[1;32m--> 340\u001b[0m     \u001b[38;5;28;01mreturn\u001b[39;00m \u001b[38;5;28;43mself\u001b[39;49m\u001b[38;5;241;43m.\u001b[39;49m\u001b[43mrandrange\u001b[49m\u001b[43m(\u001b[49m\u001b[43ma\u001b[49m\u001b[43m,\u001b[49m\u001b[43m \u001b[49m\u001b[43mb\u001b[49m\u001b[38;5;241;43m+\u001b[39;49m\u001b[38;5;241;43m1\u001b[39;49m\u001b[43m)\u001b[49m\n",
      "File \u001b[1;32mc:\\Users\\tdeyo\\AppData\\Local\\Programs\\Python\\Python313\\Lib\\random.py:322\u001b[0m, in \u001b[0;36mRandom.randrange\u001b[1;34m(self, start, stop, step)\u001b[0m\n\u001b[0;32m    320\u001b[0m \u001b[38;5;28;01mif\u001b[39;00m istep \u001b[38;5;241m==\u001b[39m \u001b[38;5;241m1\u001b[39m:\n\u001b[0;32m    321\u001b[0m     \u001b[38;5;28;01mif\u001b[39;00m width \u001b[38;5;241m>\u001b[39m \u001b[38;5;241m0\u001b[39m:\n\u001b[1;32m--> 322\u001b[0m         \u001b[38;5;28;01mreturn\u001b[39;00m istart \u001b[38;5;241m+\u001b[39m \u001b[38;5;28;43mself\u001b[39;49m\u001b[38;5;241;43m.\u001b[39;49m\u001b[43m_randbelow\u001b[49m\u001b[43m(\u001b[49m\u001b[43mwidth\u001b[49m\u001b[43m)\u001b[49m\n\u001b[0;32m    323\u001b[0m     \u001b[38;5;28;01mraise\u001b[39;00m \u001b[38;5;167;01mValueError\u001b[39;00m(\u001b[38;5;124mf\u001b[39m\u001b[38;5;124m\"\u001b[39m\u001b[38;5;124mempty range in randrange(\u001b[39m\u001b[38;5;132;01m{\u001b[39;00mstart\u001b[38;5;132;01m}\u001b[39;00m\u001b[38;5;124m, \u001b[39m\u001b[38;5;132;01m{\u001b[39;00mstop\u001b[38;5;132;01m}\u001b[39;00m\u001b[38;5;124m)\u001b[39m\u001b[38;5;124m\"\u001b[39m)\n\u001b[0;32m    325\u001b[0m \u001b[38;5;66;03m# Non-unit step argument supplied.\u001b[39;00m\n",
      "File \u001b[1;32mc:\\Users\\tdeyo\\AppData\\Local\\Programs\\Python\\Python313\\Lib\\random.py:252\u001b[0m, in \u001b[0;36mRandom._randbelow_with_getrandbits\u001b[1;34m(self, n)\u001b[0m\n\u001b[0;32m    250\u001b[0m r \u001b[38;5;241m=\u001b[39m getrandbits(k)  \u001b[38;5;66;03m# 0 <= r < 2**k\u001b[39;00m\n\u001b[0;32m    251\u001b[0m \u001b[38;5;28;01mwhile\u001b[39;00m r \u001b[38;5;241m>\u001b[39m\u001b[38;5;241m=\u001b[39m n:\n\u001b[1;32m--> 252\u001b[0m     r \u001b[38;5;241m=\u001b[39m \u001b[43mgetrandbits\u001b[49m\u001b[43m(\u001b[49m\u001b[43mk\u001b[49m\u001b[43m)\u001b[49m\n\u001b[0;32m    253\u001b[0m \u001b[38;5;28;01mreturn\u001b[39;00m r\n",
      "\u001b[1;31mKeyboardInterrupt\u001b[0m: "
     ]
    }
   ],
   "source": [
    "def main():\n",
    "    mainTime = time.time()\n",
    "    \n",
    "    print(\"Performing Test Generation\")\n",
    "    testBatches = generator()\n",
    "\n",
    "    print(\"Performing Performance Test\")\n",
    "    perfTest(hasDuplicateBruteForce, testBatches)\n",
    "    perfTest(hasDuplicateSorting, testBatches)\n",
    "    perfTest(hasDuplicateHashset, testBatches)\n",
    "\n",
    "    print(f\"Program Exec Complete... time elasped: {time.time() - mainTime:.5f} seconds.\")\n",
    "\n",
    "main()"
   ]
  }
 ],
 "metadata": {
  "kernelspec": {
   "display_name": "Python 3",
   "language": "python",
   "name": "python3"
  },
  "language_info": {
   "codemirror_mode": {
    "name": "ipython",
    "version": 3
   },
   "file_extension": ".py",
   "mimetype": "text/x-python",
   "name": "python",
   "nbconvert_exporter": "python",
   "pygments_lexer": "ipython3",
   "version": "3.13.0"
  }
 },
 "nbformat": 4,
 "nbformat_minor": 2
}
