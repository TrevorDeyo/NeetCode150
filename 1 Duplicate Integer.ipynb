{
 "cells": [
  {
   "cell_type": "markdown",
   "metadata": {},
   "source": [
    "Duplicate Integer\n",
    "Given an integer array nums, return true if any value appears more than once in the array, otherwise return false.\n",
    "\n",
    "Example 1:\n",
    "Input: nums = [1, 2, 3, 3]\n",
    "Output: true\n",
    "\n",
    "Example 2:\n",
    "Input: nums = [1, 2, 3, 4]\n",
    "Output: false\n",
    "\n",
    "You can change the test parameters below :)"
   ]
  },
  {
   "cell_type": "code",
   "execution_count": 55,
   "metadata": {},
   "outputs": [],
   "source": [
    "from typing import List\n",
    "import random\n",
    "import time\n",
    "from concurrent.futures import ThreadPoolExecutor, as_completed\n",
    "\n",
    "# Test Case Generator\n",
    "def generator():\n",
    "    # Test Params\n",
    "    numberofBatches = 35\n",
    "    startingTestsPerBatch = 10\n",
    "    rateofTestsPerBatchIncrease = 1.5\n",
    "    maxIntValue = int(\"9\" * 9)\n",
    "    \n",
    "    genTime = time.time()\n",
    "\n",
    "    previousBatchSize = 0\n",
    "    testBatches = []\n",
    "    counter = 0\n",
    "    for batchNum in range(numberofBatches):\n",
    "        batchTime = time.time()\n",
    "        if batchNum == 0:\n",
    "            batchSize = startingTestsPerBatch\n",
    "        else:\n",
    "            batchSize = previousBatchSize * rateofTestsPerBatchIncrease\n",
    "        \n",
    "        # build the batch\n",
    "        testBatch = []\n",
    "        for _ in range(int(batchSize)):\n",
    "            testBatch.append(random.randint(0, maxIntValue))\n",
    "        testBatches.append(testBatch)            \n",
    "\n",
    "        previousBatchSize = batchSize\n",
    "\n",
    "        print(f\"\\rTest Gen Batch {counter + 1} Complete, Time Elasped: {time.time() - batchTime:.5f} seconds.\")\n",
    "        counter += 1\n",
    "    print(testBatches[0][0])\n",
    "    print(f\"Test Generator comeplete, time elasped: {time.time() - genTime:.5f} seconds\")\n",
    "    return testBatches        "
   ]
  },
  {
   "cell_type": "code",
   "execution_count": 56,
   "metadata": {},
   "outputs": [],
   "source": [
    "def hasDuplicateBruteForce(nums: List[int]) -> bool:\n",
    "    for i in range(len(nums)):\n",
    "        for j in range(i + 1, len(nums)):\n",
    "            if nums[i] == nums[j]:\n",
    "                return True\n",
    "    return False"
   ]
  },
  {
   "cell_type": "code",
   "execution_count": 57,
   "metadata": {},
   "outputs": [],
   "source": [
    "def hasDuplicateSorting(nums: List[int]) -> bool:\n",
    "    nums.sort()\n",
    "    for i in range(1, len(nums)):\n",
    "        if nums[i] == nums[i - 1]:\n",
    "            return True\n",
    "    return False\n"
   ]
  },
  {
   "cell_type": "code",
   "execution_count": 58,
   "metadata": {},
   "outputs": [],
   "source": [
    "def hasDuplicateHashset(nums: List[int]) -> bool:\n",
    "    seen = set()\n",
    "    for n in nums:\n",
    "        if n in seen:\n",
    "            return True\n",
    "        seen.add(n)\n",
    "    return False"
   ]
  },
  {
   "cell_type": "code",
   "execution_count": 59,
   "metadata": {},
   "outputs": [],
   "source": [
    "def perfTest(func, testBatches):\n",
    "    algoName = func.__name__\n",
    "    perfTestTime = time.time()\n",
    "    counter = 0\n",
    "    detectedDuplicates = 0\n",
    "    for batch in testBatches:\n",
    "        batchTime = time.time()\n",
    "        if func(batch):\n",
    "            detectedDuplicates += 1\n",
    "        print(f\"Perf Test Batch{counter + 1} Complete - {algoName}, Time Elasped: {time.time() - batchTime:.5f} seconds.\")\n",
    "        counter += 1\n",
    "    print(f\"Detected: {detectedDuplicates} Batches with a duplicate int\")\n",
    "    print(f\"Performance Test Complete, Time Elasped: {time.time() - perfTestTime:.5f} seconds.\")\n",
    "        "
   ]
  },
  {
   "cell_type": "code",
   "execution_count": null,
   "metadata": {},
   "outputs": [],
   "source": [
    "def main():\n",
    "    mainTime = time.time()\n",
    "    \n",
    "    print(\"Performing Test Generation\")\n",
    "    testBatches = generator()\n",
    "\n",
    "    print(\"Performing Performance Test\")\n",
    "    perfTest(hasDuplicateSorting, testBatches)\n",
    "    perfTest(hasDuplicateHashset, testBatches)\n",
    "    #perfTest(hasDuplicateBruteForce, testBatches)\n",
    "\n",
    "    print(f\"Program Exec Complete... time elasped: {time.time() - mainTime:.5f} seconds.\")\n",
    "\n",
    "main()"
   ]
  }
 ],
 "metadata": {
  "kernelspec": {
   "display_name": "Python 3",
   "language": "python",
   "name": "python3"
  },
  "language_info": {
   "codemirror_mode": {
    "name": "ipython",
    "version": 3
   },
   "file_extension": ".py",
   "mimetype": "text/x-python",
   "name": "python",
   "nbconvert_exporter": "python",
   "pygments_lexer": "ipython3",
   "version": "3.13.0"
  }
 },
 "nbformat": 4,
 "nbformat_minor": 2
}
