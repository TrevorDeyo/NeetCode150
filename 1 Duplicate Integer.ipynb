{
 "cells": [
  {
   "cell_type": "markdown",
   "metadata": {},
   "source": [
    "Duplicate Integer\n",
    "Given an integer array nums, return true if any value appears more than once in the array, otherwise return false.\n",
    "\n",
    "Example 1:\n",
    "Input: nums = [1, 2, 3, 3]\n",
    "Output: true\n",
    "\n",
    "Example 2:\n",
    "Input: nums = [1, 2, 3, 4]\n",
    "Output: false\n"
   ]
  },
  {
   "cell_type": "code",
   "execution_count": 16,
   "metadata": {},
   "outputs": [],
   "source": [
    "from typing import List\n",
    "\n",
    "class Solution:\n",
    "    def hasDuplicate(self, nums: List[int]) -> bool:\n",
    "        seen = set()\n",
    "        \n",
    "        for n in nums:\n",
    "            if n in seen:\n",
    "                return True\n",
    "            seen.add(n)\n",
    "        return False"
   ]
  },
  {
   "cell_type": "markdown",
   "metadata": {},
   "source": [
    "Test Case Generator and Verifier."
   ]
  },
  {
   "cell_type": "code",
   "execution_count": 17,
   "metadata": {},
   "outputs": [
    {
     "name": "stdout",
     "output_type": "stream",
     "text": [
      "0\n",
      "1\n",
      "2\n",
      "3\n",
      "4\n",
      "5\n",
      "6\n",
      "7\n",
      "8\n",
      "9\n"
     ]
    }
   ],
   "source": [
    "import random\n",
    "class Testing:\n",
    "    def generator(self):\n",
    "        # Test Params\n",
    "        numberofBatches = 10\n",
    "        startingTestsPerBatch = 10\n",
    "        rateofTestsPerBatchIncrease = 2\n",
    "        maxIntValue = 99\n",
    "        negativeInts = False\n",
    "        \n",
    "        previousBatchSize = 0\n",
    "        for batch in range(numberofBatches):\n",
    "            batch\n",
    "\n",
    "test = Testing()\n",
    "test.generator()"
   ]
  }
 ],
 "metadata": {
  "kernelspec": {
   "display_name": "Python 3",
   "language": "python",
   "name": "python3"
  },
  "language_info": {
   "codemirror_mode": {
    "name": "ipython",
    "version": 3
   },
   "file_extension": ".py",
   "mimetype": "text/x-python",
   "name": "python",
   "nbconvert_exporter": "python",
   "pygments_lexer": "ipython3",
   "version": "3.13.0"
  }
 },
 "nbformat": 4,
 "nbformat_minor": 2
}
